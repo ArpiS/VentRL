{
 "cells": [
  {
   "cell_type": "code",
   "execution_count": 1,
   "metadata": {
    "collapsed": false
   },
   "outputs": [],
   "source": [
    "%matplotlib inline\n",
    "import matplotlib.pyplot as plt\n",
    "import numpy as np\n",
    "import pandas as pd\n",
    "#from pandas import *\n",
    "import os, sys, pickle, json, time, math\n",
    "#import seaborn as sns\n",
    "\n",
    "sys.path.append('../utils')\n",
    "import mimicConcepts as mc"
   ]
  },
  {
   "cell_type": "code",
   "execution_count": 2,
   "metadata": {
    "collapsed": true
   },
   "outputs": [],
   "source": [
    "sedatives_list = ['Propofol', 'Fentanyl (Concentrate)', 'Midazolam (Versed)', 'Fentanyl', \n",
    "                  'Dexmedetomidine (Precedex)', 'Morphine Sulfate', 'Hydromorphone (Dilaudid)', 'Lorazepam (Ativan)']\n",
    "\n",
    "vitals_list = ['Heart Rate', 'Respiratory Rate', 'O2 saturation pulseoxymetry', 'Non Invasive Blood Pressure mean',\n",
    "               'Non Invasive Blood Pressure systolic', 'Non Invasive Blood Pressure diastolic','Inspired O2 Fraction',\n",
    "               'PEEP set', 'Mean Airway Pressure','Ventilator Mode', 'Tidal Volume (observed)','PH (Arterial)',\n",
    "               'Respiratory Rate (spontaneous)','Richmond-RAS Scale','Peak Insp. Pressure', 'O2 Flow',\n",
    "               'Plateau Pressure','Arterial O2 pressure','Arterial CO2 Pressure']\n",
    "\n",
    "sbt_list = ['SBT Started', 'SBT Stopped', 'SBT Successfully Completed', 'SBT Deferred']\n",
    "\n",
    "misc_list = ['Admission Weight (Kg)', 'Height (cm)']"
   ]
  },
  {
   "cell_type": "code",
   "execution_count": 3,
   "metadata": {
    "collapsed": true
   },
   "outputs": [],
   "source": [
    "def generateTables(vitals_list, sedatives_list, sbt_list, misc_list, save=False):\n",
    "    \n",
    "    vent_table = mc.ventilation()\n",
    "    adms_table = mc.admissions()\n",
    "    adms_table = adms_table[adms_table.hadm.isin(vent_table.hadm.unique()) & (adms_table.h_exp==0)]\n",
    "    cohort_hadms = adms_table.hadm.unique()\n",
    "    cohort_stays = adms_table.icustay.unique()\n",
    "    \n",
    "    print 'Unique icu stays:', cohort_stays, 'Unique hadms:', cohort_hadms \n",
    "    \n",
    "    vent_table = vent_table[vent_table.hadm.isin(cohort_hadms)]\n",
    "    vitals_table = mc.charts(cohort_hadms, vitals_list)\n",
    "    seds_table = mc.inputs(cohort_hadms, sedatives_list)\n",
    "    sbt_table = mc.charts(cohort_hadms, sbt_list)\n",
    "    misc_table = mc.charts(cohort_hadms, misc_list)\n",
    "    \n",
    "    if save:\n",
    "        pickle.dump((adms_table, vent_table, seds_table, sbt_table, misc_table), open('pickles/tables.pkl', 'wb'))\n",
    "    else:\n",
    "        return adms_table, vent_table, seds_table, sbt_table, misc_table"
   ]
  },
  {
   "cell_type": "code",
   "execution_count": null,
   "metadata": {
    "collapsed": false
   },
   "outputs": [],
   "source": []
  },
  {
   "cell_type": "code",
   "execution_count": null,
   "metadata": {
    "collapsed": false
   },
   "outputs": [],
   "source": []
  },
  {
   "cell_type": "code",
   "execution_count": null,
   "metadata": {
    "collapsed": true
   },
   "outputs": [],
   "source": []
  }
 ],
 "metadata": {
  "anaconda-cloud": {},
  "kernelspec": {
   "display_name": "Python [default]",
   "language": "python",
   "name": "python2"
  },
  "language_info": {
   "codemirror_mode": {
    "name": "ipython",
    "version": 2
   },
   "file_extension": ".py",
   "mimetype": "text/x-python",
   "name": "python",
   "nbconvert_exporter": "python",
   "pygments_lexer": "ipython2",
   "version": "2.7.12"
  }
 },
 "nbformat": 4,
 "nbformat_minor": 1
}
